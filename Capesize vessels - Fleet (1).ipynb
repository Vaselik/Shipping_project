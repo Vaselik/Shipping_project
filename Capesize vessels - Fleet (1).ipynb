{
 "cells": [
  {
   "cell_type": "markdown",
   "id": "cf58c909",
   "metadata": {},
   "source": [
    "## Capesize vessels - Fleet"
   ]
  },
  {
   "cell_type": "code",
   "execution_count": 1,
   "id": "d5e656a4",
   "metadata": {},
   "outputs": [],
   "source": [
    "import pandas as pd\n",
    "import seaborn as sns\n",
    "import matplotlib.pyplot as plt"
   ]
  },
  {
   "cell_type": "code",
   "execution_count": 9,
   "id": "3758bc04",
   "metadata": {},
   "outputs": [
    {
     "data": {
      "text/html": [
       "<div>\n",
       "<style scoped>\n",
       "    .dataframe tbody tr th:only-of-type {\n",
       "        vertical-align: middle;\n",
       "    }\n",
       "\n",
       "    .dataframe tbody tr th {\n",
       "        vertical-align: top;\n",
       "    }\n",
       "\n",
       "    .dataframe thead th {\n",
       "        text-align: right;\n",
       "    }\n",
       "</style>\n",
       "<table border=\"1\" class=\"dataframe\">\n",
       "  <thead>\n",
       "    <tr style=\"text-align: right;\">\n",
       "      <th></th>\n",
       "      <th>LR/IMO Ship No</th>\n",
       "      <th>Vessel Name</th>\n",
       "      <th>Year Built</th>\n",
       "      <th>Month Built</th>\n",
       "      <th>Dwt</th>\n",
       "      <th>Owner</th>\n",
       "      <th>Status</th>\n",
       "      <th>Shipbuilder</th>\n",
       "      <th>Country of Build</th>\n",
       "      <th>Year Order placed</th>\n",
       "      <th>Month Order placed</th>\n",
       "      <th>Owner Country</th>\n",
       "      <th>Standard_Design</th>\n",
       "    </tr>\n",
       "  </thead>\n",
       "  <tbody>\n",
       "    <tr>\n",
       "      <th>0</th>\n",
       "      <td>9738571</td>\n",
       "      <td>MINERAL YANGFAN</td>\n",
       "      <td>2019</td>\n",
       "      <td>10</td>\n",
       "      <td>206392</td>\n",
       "      <td>CMB NV</td>\n",
       "      <td>Active</td>\n",
       "      <td>Qingdao Yangfan Shipbuilding</td>\n",
       "      <td>China</td>\n",
       "      <td>2013</td>\n",
       "      <td>12</td>\n",
       "      <td>Belgium</td>\n",
       "      <td>Yangfan 206BC</td>\n",
       "    </tr>\n",
       "    <tr>\n",
       "      <th>1</th>\n",
       "      <td>9624251</td>\n",
       "      <td>EL GRASSO</td>\n",
       "      <td>2012</td>\n",
       "      <td>7</td>\n",
       "      <td>181365</td>\n",
       "      <td>Ebe NV</td>\n",
       "      <td>Active</td>\n",
       "      <td>Imabari Shbldg - Saijo</td>\n",
       "      <td>Japan</td>\n",
       "      <td>2010</td>\n",
       "      <td>1</td>\n",
       "      <td>Belgium</td>\n",
       "      <td>Imabari 181</td>\n",
       "    </tr>\n",
       "    <tr>\n",
       "      <th>2</th>\n",
       "      <td>9567025</td>\n",
       "      <td>MINERAL HOPE</td>\n",
       "      <td>2012</td>\n",
       "      <td>6</td>\n",
       "      <td>175591</td>\n",
       "      <td>CMB NV</td>\n",
       "      <td>Active</td>\n",
       "      <td>Jinhai Heavy Industry Co Ltd</td>\n",
       "      <td>China</td>\n",
       "      <td>2006</td>\n",
       "      <td>11</td>\n",
       "      <td>Belgium</td>\n",
       "      <td>DOLPHIN 176</td>\n",
       "    </tr>\n",
       "    <tr>\n",
       "      <th>3</th>\n",
       "      <td>9575668</td>\n",
       "      <td>MINERAL FAITH</td>\n",
       "      <td>2012</td>\n",
       "      <td>6</td>\n",
       "      <td>175620</td>\n",
       "      <td>CMB NV</td>\n",
       "      <td>Active</td>\n",
       "      <td>Jinhai Heavy Industry Co Ltd</td>\n",
       "      <td>China</td>\n",
       "      <td>2006</td>\n",
       "      <td>11</td>\n",
       "      <td>Belgium</td>\n",
       "      <td>DOLPHIN 176</td>\n",
       "    </tr>\n",
       "    <tr>\n",
       "      <th>4</th>\n",
       "      <td>9586813</td>\n",
       "      <td>LOWLANDS PROSPERITY</td>\n",
       "      <td>2012</td>\n",
       "      <td>1</td>\n",
       "      <td>179895</td>\n",
       "      <td>Cobelfret NV</td>\n",
       "      <td>Active</td>\n",
       "      <td>HHIC-Phil Inc</td>\n",
       "      <td>Philippines</td>\n",
       "      <td>2010</td>\n",
       "      <td>3</td>\n",
       "      <td>Belgium</td>\n",
       "      <td>Hanjin 180BC</td>\n",
       "    </tr>\n",
       "  </tbody>\n",
       "</table>\n",
       "</div>"
      ],
      "text/plain": [
       "   LR/IMO Ship No          Vessel Name  Year Built  Month Built     Dwt  \\\n",
       "0         9738571      MINERAL YANGFAN        2019           10  206392   \n",
       "1         9624251            EL GRASSO        2012            7  181365   \n",
       "2         9567025         MINERAL HOPE        2012            6  175591   \n",
       "3         9575668        MINERAL FAITH        2012            6  175620   \n",
       "4         9586813  LOWLANDS PROSPERITY        2012            1  179895   \n",
       "\n",
       "          Owner  Status                   Shipbuilder Country of Build  \\\n",
       "0        CMB NV  Active  Qingdao Yangfan Shipbuilding            China   \n",
       "1        Ebe NV  Active        Imabari Shbldg - Saijo            Japan   \n",
       "2        CMB NV  Active  Jinhai Heavy Industry Co Ltd            China   \n",
       "3        CMB NV  Active  Jinhai Heavy Industry Co Ltd            China   \n",
       "4  Cobelfret NV  Active                 HHIC-Phil Inc      Philippines   \n",
       "\n",
       "   Year Order placed  Month Order placed Owner Country Standard_Design  \n",
       "0               2013                  12       Belgium   Yangfan 206BC  \n",
       "1               2010                   1       Belgium     Imabari 181  \n",
       "2               2006                  11       Belgium     DOLPHIN 176  \n",
       "3               2006                  11       Belgium     DOLPHIN 176  \n",
       "4               2010                   3       Belgium    Hanjin 180BC  "
      ]
     },
     "execution_count": 9,
     "metadata": {},
     "output_type": "execute_result"
    }
   ],
   "source": [
    "vessels = pd.read_excel(r'C:\\Users\\Vasiliki\\Desktop\\Capesize Data 2022.xlsx')\n",
    "vessels.head()"
   ]
  },
  {
   "cell_type": "code",
   "execution_count": 4,
   "id": "fcfc2e42",
   "metadata": {},
   "outputs": [
    {
     "name": "stdout",
     "output_type": "stream",
     "text": [
      "<class 'pandas.core.frame.DataFrame'>\n",
      "RangeIndex: 1910 entries, 0 to 1909\n",
      "Data columns (total 13 columns):\n",
      " #   Column              Non-Null Count  Dtype \n",
      "---  ------              --------------  ----- \n",
      " 0   LR/IMO Ship No      1910 non-null   int64 \n",
      " 1   Vessel Name         1910 non-null   object\n",
      " 2   Year Built          1910 non-null   int64 \n",
      " 3   Month Built         1910 non-null   int64 \n",
      " 4   Dwt                 1910 non-null   int64 \n",
      " 5   Owner               1910 non-null   object\n",
      " 6   Status              1910 non-null   object\n",
      " 7   Shipbuilder         1910 non-null   object\n",
      " 8   Country of Build    1910 non-null   object\n",
      " 9   Year Order placed   1910 non-null   int64 \n",
      " 10  Month Order placed  1910 non-null   int64 \n",
      " 11  Owner Country       1871 non-null   object\n",
      " 12  Standard_Design     1754 non-null   object\n",
      "dtypes: int64(6), object(7)\n",
      "memory usage: 194.1+ KB\n"
     ]
    }
   ],
   "source": [
    "vessels.info()"
   ]
  },
  {
   "cell_type": "code",
   "execution_count": 5,
   "id": "33ccc9c7",
   "metadata": {},
   "outputs": [
    {
     "data": {
      "text/plain": [
       "LR/IMO Ship No          0\n",
       "Vessel Name             0\n",
       "Year Built              0\n",
       "Month Built             0\n",
       "Dwt                     0\n",
       "Owner                   0\n",
       "Status                  0\n",
       "Shipbuilder             0\n",
       "Country of Build        0\n",
       "Year Order placed       0\n",
       "Month Order placed      0\n",
       "Owner Country          39\n",
       "Standard_Design       156\n",
       "dtype: int64"
      ]
     },
     "execution_count": 5,
     "metadata": {},
     "output_type": "execute_result"
    }
   ],
   "source": [
    "vessels.isnull().sum()"
   ]
  },
  {
   "cell_type": "markdown",
   "id": "bc3e73fa",
   "metadata": {},
   "source": [
    "## Statistic Analysis"
   ]
  },
  {
   "cell_type": "code",
   "execution_count": 6,
   "id": "d274fadb",
   "metadata": {},
   "outputs": [
    {
     "data": {
      "text/html": [
       "<div>\n",
       "<style scoped>\n",
       "    .dataframe tbody tr th:only-of-type {\n",
       "        vertical-align: middle;\n",
       "    }\n",
       "\n",
       "    .dataframe tbody tr th {\n",
       "        vertical-align: top;\n",
       "    }\n",
       "\n",
       "    .dataframe thead th {\n",
       "        text-align: right;\n",
       "    }\n",
       "</style>\n",
       "<table border=\"1\" class=\"dataframe\">\n",
       "  <thead>\n",
       "    <tr style=\"text-align: right;\">\n",
       "      <th></th>\n",
       "      <th>LR/IMO Ship No</th>\n",
       "      <th>Vessel Name</th>\n",
       "      <th>Year Built</th>\n",
       "      <th>Month Built</th>\n",
       "      <th>Dwt</th>\n",
       "      <th>Owner</th>\n",
       "      <th>Status</th>\n",
       "      <th>Shipbuilder</th>\n",
       "      <th>Country of Build</th>\n",
       "      <th>Year Order placed</th>\n",
       "      <th>Month Order placed</th>\n",
       "      <th>Owner Country</th>\n",
       "      <th>Standard_Design</th>\n",
       "    </tr>\n",
       "  </thead>\n",
       "  <tbody>\n",
       "    <tr>\n",
       "      <th>count</th>\n",
       "      <td>1.910000e+03</td>\n",
       "      <td>1910</td>\n",
       "      <td>1910.000000</td>\n",
       "      <td>1910.000000</td>\n",
       "      <td>1910.000000</td>\n",
       "      <td>1910</td>\n",
       "      <td>1910</td>\n",
       "      <td>1910</td>\n",
       "      <td>1910</td>\n",
       "      <td>1910.000000</td>\n",
       "      <td>1910.000000</td>\n",
       "      <td>1871</td>\n",
       "      <td>1754</td>\n",
       "    </tr>\n",
       "    <tr>\n",
       "      <th>unique</th>\n",
       "      <td>NaN</td>\n",
       "      <td>1902</td>\n",
       "      <td>NaN</td>\n",
       "      <td>NaN</td>\n",
       "      <td>NaN</td>\n",
       "      <td>326</td>\n",
       "      <td>2</td>\n",
       "      <td>74</td>\n",
       "      <td>7</td>\n",
       "      <td>NaN</td>\n",
       "      <td>NaN</td>\n",
       "      <td>34</td>\n",
       "      <td>96</td>\n",
       "    </tr>\n",
       "    <tr>\n",
       "      <th>top</th>\n",
       "      <td>NaN</td>\n",
       "      <td>QINGDAO BEIHAI</td>\n",
       "      <td>NaN</td>\n",
       "      <td>NaN</td>\n",
       "      <td>NaN</td>\n",
       "      <td>Unknown</td>\n",
       "      <td>Active</td>\n",
       "      <td>Shanghai Waigaoqiao Shbldg</td>\n",
       "      <td>China</td>\n",
       "      <td>NaN</td>\n",
       "      <td>NaN</td>\n",
       "      <td>Japan</td>\n",
       "      <td>Imabari 181</td>\n",
       "    </tr>\n",
       "    <tr>\n",
       "      <th>freq</th>\n",
       "      <td>NaN</td>\n",
       "      <td>5</td>\n",
       "      <td>NaN</td>\n",
       "      <td>NaN</td>\n",
       "      <td>NaN</td>\n",
       "      <td>86</td>\n",
       "      <td>1776</td>\n",
       "      <td>264</td>\n",
       "      <td>869</td>\n",
       "      <td>NaN</td>\n",
       "      <td>NaN</td>\n",
       "      <td>360</td>\n",
       "      <td>118</td>\n",
       "    </tr>\n",
       "    <tr>\n",
       "      <th>mean</th>\n",
       "      <td>9.596489e+06</td>\n",
       "      <td>NaN</td>\n",
       "      <td>2012.990576</td>\n",
       "      <td>6.036126</td>\n",
       "      <td>203410.347120</td>\n",
       "      <td>NaN</td>\n",
       "      <td>NaN</td>\n",
       "      <td>NaN</td>\n",
       "      <td>NaN</td>\n",
       "      <td>2009.881152</td>\n",
       "      <td>6.145550</td>\n",
       "      <td>NaN</td>\n",
       "      <td>NaN</td>\n",
       "    </tr>\n",
       "    <tr>\n",
       "      <th>std</th>\n",
       "      <td>2.025817e+05</td>\n",
       "      <td>NaN</td>\n",
       "      <td>5.504693</td>\n",
       "      <td>3.481938</td>\n",
       "      <td>51031.814174</td>\n",
       "      <td>NaN</td>\n",
       "      <td>NaN</td>\n",
       "      <td>NaN</td>\n",
       "      <td>NaN</td>\n",
       "      <td>5.469570</td>\n",
       "      <td>4.057828</td>\n",
       "      <td>NaN</td>\n",
       "      <td>NaN</td>\n",
       "    </tr>\n",
       "    <tr>\n",
       "      <th>min</th>\n",
       "      <td>9.122590e+06</td>\n",
       "      <td>NaN</td>\n",
       "      <td>1996.000000</td>\n",
       "      <td>1.000000</td>\n",
       "      <td>120000.000000</td>\n",
       "      <td>NaN</td>\n",
       "      <td>NaN</td>\n",
       "      <td>NaN</td>\n",
       "      <td>NaN</td>\n",
       "      <td>1995.000000</td>\n",
       "      <td>0.000000</td>\n",
       "      <td>NaN</td>\n",
       "      <td>NaN</td>\n",
       "    </tr>\n",
       "    <tr>\n",
       "      <th>25%</th>\n",
       "      <td>9.446184e+06</td>\n",
       "      <td>NaN</td>\n",
       "      <td>2010.000000</td>\n",
       "      <td>3.000000</td>\n",
       "      <td>178978.000000</td>\n",
       "      <td>NaN</td>\n",
       "      <td>NaN</td>\n",
       "      <td>NaN</td>\n",
       "      <td>NaN</td>\n",
       "      <td>2006.000000</td>\n",
       "      <td>3.000000</td>\n",
       "      <td>NaN</td>\n",
       "      <td>NaN</td>\n",
       "    </tr>\n",
       "    <tr>\n",
       "      <th>50%</th>\n",
       "      <td>9.582544e+06</td>\n",
       "      <td>NaN</td>\n",
       "      <td>2012.000000</td>\n",
       "      <td>6.000000</td>\n",
       "      <td>181366.000000</td>\n",
       "      <td>NaN</td>\n",
       "      <td>NaN</td>\n",
       "      <td>NaN</td>\n",
       "      <td>NaN</td>\n",
       "      <td>2009.000000</td>\n",
       "      <td>6.000000</td>\n",
       "      <td>NaN</td>\n",
       "      <td>NaN</td>\n",
       "    </tr>\n",
       "    <tr>\n",
       "      <th>75%</th>\n",
       "      <td>9.750830e+06</td>\n",
       "      <td>NaN</td>\n",
       "      <td>2017.000000</td>\n",
       "      <td>9.000000</td>\n",
       "      <td>208396.000000</td>\n",
       "      <td>NaN</td>\n",
       "      <td>NaN</td>\n",
       "      <td>NaN</td>\n",
       "      <td>NaN</td>\n",
       "      <td>2014.000000</td>\n",
       "      <td>10.000000</td>\n",
       "      <td>NaN</td>\n",
       "      <td>NaN</td>\n",
       "    </tr>\n",
       "    <tr>\n",
       "      <th>max</th>\n",
       "      <td>9.960148e+06</td>\n",
       "      <td>NaN</td>\n",
       "      <td>2024.000000</td>\n",
       "      <td>12.000000</td>\n",
       "      <td>403880.000000</td>\n",
       "      <td>NaN</td>\n",
       "      <td>NaN</td>\n",
       "      <td>NaN</td>\n",
       "      <td>NaN</td>\n",
       "      <td>2021.000000</td>\n",
       "      <td>12.000000</td>\n",
       "      <td>NaN</td>\n",
       "      <td>NaN</td>\n",
       "    </tr>\n",
       "  </tbody>\n",
       "</table>\n",
       "</div>"
      ],
      "text/plain": [
       "        LR/IMO Ship No     Vessel Name   Year Built  Month Built  \\\n",
       "count     1.910000e+03            1910  1910.000000  1910.000000   \n",
       "unique             NaN            1902          NaN          NaN   \n",
       "top                NaN  QINGDAO BEIHAI          NaN          NaN   \n",
       "freq               NaN               5          NaN          NaN   \n",
       "mean      9.596489e+06             NaN  2012.990576     6.036126   \n",
       "std       2.025817e+05             NaN     5.504693     3.481938   \n",
       "min       9.122590e+06             NaN  1996.000000     1.000000   \n",
       "25%       9.446184e+06             NaN  2010.000000     3.000000   \n",
       "50%       9.582544e+06             NaN  2012.000000     6.000000   \n",
       "75%       9.750830e+06             NaN  2017.000000     9.000000   \n",
       "max       9.960148e+06             NaN  2024.000000    12.000000   \n",
       "\n",
       "                  Dwt      Owner  Status                 Shipbuilder  \\\n",
       "count     1910.000000       1910    1910                        1910   \n",
       "unique            NaN        326       2                          74   \n",
       "top               NaN    Unknown  Active  Shanghai Waigaoqiao Shbldg   \n",
       "freq              NaN         86    1776                         264   \n",
       "mean    203410.347120        NaN     NaN                         NaN   \n",
       "std      51031.814174        NaN     NaN                         NaN   \n",
       "min     120000.000000        NaN     NaN                         NaN   \n",
       "25%     178978.000000        NaN     NaN                         NaN   \n",
       "50%     181366.000000        NaN     NaN                         NaN   \n",
       "75%     208396.000000        NaN     NaN                         NaN   \n",
       "max     403880.000000        NaN     NaN                         NaN   \n",
       "\n",
       "       Country of Build  Year Order placed  Month Order placed Owner Country  \\\n",
       "count              1910        1910.000000         1910.000000          1871   \n",
       "unique                7                NaN                 NaN            34   \n",
       "top               China                NaN                 NaN         Japan   \n",
       "freq                869                NaN                 NaN           360   \n",
       "mean                NaN        2009.881152            6.145550           NaN   \n",
       "std                 NaN           5.469570            4.057828           NaN   \n",
       "min                 NaN        1995.000000            0.000000           NaN   \n",
       "25%                 NaN        2006.000000            3.000000           NaN   \n",
       "50%                 NaN        2009.000000            6.000000           NaN   \n",
       "75%                 NaN        2014.000000           10.000000           NaN   \n",
       "max                 NaN        2021.000000           12.000000           NaN   \n",
       "\n",
       "       Standard_Design  \n",
       "count             1754  \n",
       "unique              96  \n",
       "top        Imabari 181  \n",
       "freq               118  \n",
       "mean               NaN  \n",
       "std                NaN  \n",
       "min                NaN  \n",
       "25%                NaN  \n",
       "50%                NaN  \n",
       "75%                NaN  \n",
       "max                NaN  "
      ]
     },
     "execution_count": 6,
     "metadata": {},
     "output_type": "execute_result"
    }
   ],
   "source": [
    "vessels.describe(include='all')"
   ]
  },
  {
   "cell_type": "markdown",
   "id": "2b3bec73",
   "metadata": {},
   "source": [
    "From the table above someone can extract a lot and useful information. \n",
    "\n",
    "However, I will point out the most valuable. \n",
    "\n",
    "Making quick conclusions for further exploration:\n",
    "\n",
    "1. The total records are 1910 but the number of unique owners are 326,\n",
    "2. The same applies with shipbuilders with unique number 74,\n",
    "3. Country of build & Owner country 7 and 34 respectively,\n",
    "4. Standard design has 96 unique records,\n",
    "5. The majority of the ships are active,\n",
    "6. China stands on very top with 869 times to appear in the list,\n",
    "7. The vessels' capacity is between 120000 and 403880. Taking a better look we can notice that the average number is 203410, but the median is 181366. This means that there are some outliers in the higher levels with them majority of the records are in the lower ones.\n"
   ]
  },
  {
   "cell_type": "markdown",
   "id": "94f756f8",
   "metadata": {},
   "source": [
    "### Month Order placed"
   ]
  },
  {
   "cell_type": "code",
   "execution_count": 8,
   "id": "e077d08f",
   "metadata": {},
   "outputs": [
    {
     "data": {
      "text/html": [
       "<div>\n",
       "<style scoped>\n",
       "    .dataframe tbody tr th:only-of-type {\n",
       "        vertical-align: middle;\n",
       "    }\n",
       "\n",
       "    .dataframe tbody tr th {\n",
       "        vertical-align: top;\n",
       "    }\n",
       "\n",
       "    .dataframe thead th {\n",
       "        text-align: right;\n",
       "    }\n",
       "</style>\n",
       "<table border=\"1\" class=\"dataframe\">\n",
       "  <thead>\n",
       "    <tr style=\"text-align: right;\">\n",
       "      <th></th>\n",
       "      <th>Month</th>\n",
       "      <th>Count</th>\n",
       "    </tr>\n",
       "  </thead>\n",
       "  <tbody>\n",
       "    <tr>\n",
       "      <th>0</th>\n",
       "      <td>1</td>\n",
       "      <td>288</td>\n",
       "    </tr>\n",
       "    <tr>\n",
       "      <th>1</th>\n",
       "      <td>12</td>\n",
       "      <td>251</td>\n",
       "    </tr>\n",
       "    <tr>\n",
       "      <th>2</th>\n",
       "      <td>11</td>\n",
       "      <td>211</td>\n",
       "    </tr>\n",
       "    <tr>\n",
       "      <th>3</th>\n",
       "      <td>6</td>\n",
       "      <td>184</td>\n",
       "    </tr>\n",
       "    <tr>\n",
       "      <th>4</th>\n",
       "      <td>3</td>\n",
       "      <td>160</td>\n",
       "    </tr>\n",
       "    <tr>\n",
       "      <th>5</th>\n",
       "      <td>5</td>\n",
       "      <td>138</td>\n",
       "    </tr>\n",
       "    <tr>\n",
       "      <th>6</th>\n",
       "      <td>4</td>\n",
       "      <td>122</td>\n",
       "    </tr>\n",
       "    <tr>\n",
       "      <th>7</th>\n",
       "      <td>0</td>\n",
       "      <td>115</td>\n",
       "    </tr>\n",
       "    <tr>\n",
       "      <th>8</th>\n",
       "      <td>8</td>\n",
       "      <td>103</td>\n",
       "    </tr>\n",
       "    <tr>\n",
       "      <th>9</th>\n",
       "      <td>7</td>\n",
       "      <td>96</td>\n",
       "    </tr>\n",
       "    <tr>\n",
       "      <th>10</th>\n",
       "      <td>10</td>\n",
       "      <td>94</td>\n",
       "    </tr>\n",
       "    <tr>\n",
       "      <th>11</th>\n",
       "      <td>9</td>\n",
       "      <td>89</td>\n",
       "    </tr>\n",
       "    <tr>\n",
       "      <th>12</th>\n",
       "      <td>2</td>\n",
       "      <td>59</td>\n",
       "    </tr>\n",
       "  </tbody>\n",
       "</table>\n",
       "</div>"
      ],
      "text/plain": [
       "    Month  Count\n",
       "0       1    288\n",
       "1      12    251\n",
       "2      11    211\n",
       "3       6    184\n",
       "4       3    160\n",
       "5       5    138\n",
       "6       4    122\n",
       "7       0    115\n",
       "8       8    103\n",
       "9       7     96\n",
       "10     10     94\n",
       "11      9     89\n",
       "12      2     59"
      ]
     },
     "execution_count": 8,
     "metadata": {},
     "output_type": "execute_result"
    }
   ],
   "source": [
    "ordered = vessels['Month Order placed'].value_counts().reset_index()\n",
    "ordered.columns = ['Month', 'Count']\n",
    "ordered"
   ]
  },
  {
   "cell_type": "code",
   "execution_count": 9,
   "id": "140d31ba",
   "metadata": {},
   "outputs": [
    {
     "data": {
      "image/png": "[encoded data removed]",
      "text/plain": [
       "<Figure size 432x288 with 1 Axes>"
      ]
     },
     "metadata": {
      "needs_background": "light"
     },
     "output_type": "display_data"
    }
   ],
   "source": [
    "sns.barplot(x=\"Month\", y=\"Count\", data=ordered)\n",
    "plt.title('Orders placed per month')\n",
    "plt.savefig(\"Orders placed per month.jpg\")\n",
    "plt.show()"
   ]
  },
  {
   "cell_type": "markdown",
   "id": "9f184a01",
   "metadata": {},
   "source": [
    "Orders placed commonly in January or in the end of the year (November - December).\n",
    "There is no 0 month, so we have 115 cases with no month of order placed. February doesn't been preferred placing an order, with only 59 ships being on the list to be constructed."
   ]
  },
  {
   "cell_type": "markdown",
   "id": "143f52de",
   "metadata": {},
   "source": [
    "### Month Built"
   ]
  },
  {
   "cell_type": "code",
   "execution_count": 6,
   "id": "ec65a890",
   "metadata": {},
   "outputs": [
    {
     "data": {
      "text/html": [
       "<div>\n",
       "<style scoped>\n",
       "    .dataframe tbody tr th:only-of-type {\n",
       "        vertical-align: middle;\n",
       "    }\n",
       "\n",
       "    .dataframe tbody tr th {\n",
       "        vertical-align: top;\n",
       "    }\n",
       "\n",
       "    .dataframe thead th {\n",
       "        text-align: right;\n",
       "    }\n",
       "</style>\n",
       "<table border=\"1\" class=\"dataframe\">\n",
       "  <thead>\n",
       "    <tr style=\"text-align: right;\">\n",
       "      <th></th>\n",
       "      <th>Month</th>\n",
       "      <th>Count</th>\n",
       "    </tr>\n",
       "  </thead>\n",
       "  <tbody>\n",
       "    <tr>\n",
       "      <th>0</th>\n",
       "      <td>1</td>\n",
       "      <td>261</td>\n",
       "    </tr>\n",
       "    <tr>\n",
       "      <th>1</th>\n",
       "      <td>6</td>\n",
       "      <td>200</td>\n",
       "    </tr>\n",
       "    <tr>\n",
       "      <th>2</th>\n",
       "      <td>9</td>\n",
       "      <td>189</td>\n",
       "    </tr>\n",
       "    <tr>\n",
       "      <th>3</th>\n",
       "      <td>3</td>\n",
       "      <td>180</td>\n",
       "    </tr>\n",
       "    <tr>\n",
       "      <th>4</th>\n",
       "      <td>7</td>\n",
       "      <td>161</td>\n",
       "    </tr>\n",
       "    <tr>\n",
       "      <th>5</th>\n",
       "      <td>11</td>\n",
       "      <td>149</td>\n",
       "    </tr>\n",
       "    <tr>\n",
       "      <th>6</th>\n",
       "      <td>4</td>\n",
       "      <td>141</td>\n",
       "    </tr>\n",
       "    <tr>\n",
       "      <th>7</th>\n",
       "      <td>10</td>\n",
       "      <td>140</td>\n",
       "    </tr>\n",
       "    <tr>\n",
       "      <th>8</th>\n",
       "      <td>2</td>\n",
       "      <td>139</td>\n",
       "    </tr>\n",
       "    <tr>\n",
       "      <th>9</th>\n",
       "      <td>5</td>\n",
       "      <td>135</td>\n",
       "    </tr>\n",
       "    <tr>\n",
       "      <th>10</th>\n",
       "      <td>8</td>\n",
       "      <td>109</td>\n",
       "    </tr>\n",
       "    <tr>\n",
       "      <th>11</th>\n",
       "      <td>12</td>\n",
       "      <td>106</td>\n",
       "    </tr>\n",
       "  </tbody>\n",
       "</table>\n",
       "</div>"
      ],
      "text/plain": [
       "    Month  Count\n",
       "0       1    261\n",
       "1       6    200\n",
       "2       9    189\n",
       "3       3    180\n",
       "4       7    161\n",
       "5      11    149\n",
       "6       4    141\n",
       "7      10    140\n",
       "8       2    139\n",
       "9       5    135\n",
       "10      8    109\n",
       "11     12    106"
      ]
     },
     "execution_count": 6,
     "metadata": {},
     "output_type": "execute_result"
    }
   ],
   "source": [
    "built = vessels['Month Built'].value_counts().reset_index()\n",
    "built.columns = ['Month', 'Count']\n",
    "built"
   ]
  },
  {
   "cell_type": "code",
   "execution_count": 7,
   "id": "96dae88f",
   "metadata": {},
   "outputs": [
    {
     "data": {
      "image/png": "[encoded data removed]",
      "text/plain": [
       "<Figure size 432x288 with 1 Axes>"
      ]
     },
     "metadata": {
      "needs_background": "light"
     },
     "output_type": "display_data"
    }
   ],
   "source": [
    "sns.barplot(x=\"Month\", y=\"Count\", data=built)\n",
    "plt.title('Vessels built per month')\n",
    "plt.savefig('Vessels built per month.jpg')\n",
    "plt.show()"
   ]
  },
  {
   "cell_type": "markdown",
   "id": "64e8e14a",
   "metadata": {},
   "source": [
    "January stands on top of this list with 261 vessels built at this month. June, September and March follow along."
   ]
  },
  {
   "cell_type": "markdown",
   "id": "6a93fa51",
   "metadata": {},
   "source": [
    "### Year Order placed"
   ]
  },
  {
   "cell_type": "code",
   "execution_count": 4,
   "id": "3500fcc2",
   "metadata": {},
   "outputs": [
    {
     "data": {
      "text/plain": [
       "2007    246\n",
       "2006    194\n",
       "2013    178\n",
       "2010    168\n",
       "2004    157\n",
       "Name: Year Order placed, dtype: int64"
      ]
     },
     "execution_count": 4,
     "metadata": {},
     "output_type": "execute_result"
    }
   ],
   "source": [
    "vessels['Year Order placed'].value_counts().head()"
   ]
  },
  {
   "cell_type": "code",
   "execution_count": 5,
   "id": "3bff0d60",
   "metadata": {},
   "outputs": [
    {
     "data": {
      "image/png": "[encoded data removed]",
      "text/plain": [
       "<Figure size 432x288 with 1 Axes>"
      ]
     },
     "metadata": {
      "needs_background": "light"
     },
     "output_type": "display_data"
    }
   ],
   "source": [
    "sns.distplot(vessels['Year Order placed'], hist=True, kde=False, norm_hist=False,\n",
    "color = 'red', hist_kws={'edgecolor':'black'})\n",
    "plt.title('Orders per Year')\n",
    "plt.savefig('Orders per Year.jpg')\n",
    "plt.show()"
   ]
  },
  {
   "cell_type": "markdown",
   "id": "79457e4e",
   "metadata": {},
   "source": [
    "In 2006 & 2007 the orderbook had the highest number of orders with a total of 440 vessels. The next three years showed an inclination, but in 2010 & 2013 there was a recovery."
   ]
  },
  {
   "cell_type": "markdown",
   "id": "27337a57",
   "metadata": {},
   "source": [
    "### Year Built"
   ]
  },
  {
   "cell_type": "code",
   "execution_count": 136,
   "id": "3d2f2ae8",
   "metadata": {},
   "outputs": [
    {
     "data": {
      "text/plain": [
       "2011    216\n",
       "2010    197\n",
       "2012    180\n",
       "2020    107\n",
       "2009    106\n",
       "Name: Year Built, dtype: int64"
      ]
     },
     "execution_count": 136,
     "metadata": {},
     "output_type": "execute_result"
    }
   ],
   "source": [
    "vessels['Year Built'].value_counts().head()"
   ]
  },
  {
   "cell_type": "code",
   "execution_count": 11,
   "id": "646757fa",
   "metadata": {},
   "outputs": [
    {
     "data": {
      "image/png": "[encoded data removed]",
      "text/plain": [
       "<Figure size 432x288 with 1 Axes>"
      ]
     },
     "metadata": {
      "needs_background": "light"
     },
     "output_type": "display_data"
    }
   ],
   "source": [
    "sns.distplot(vessels['Year Built'], hist=True, kde=False, norm_hist=False,\n",
    "color = 'purple', hist_kws={'edgecolor':'black'})\n",
    "plt.title('Vessels Built per Year')\n",
    "plt.savefig('Vessels Built per Year.jpg')\n",
    "plt.show()"
   ]
  },
  {
   "cell_type": "markdown",
   "id": "dd335b02",
   "metadata": {},
   "source": [
    "From 2009 until 2012 were the years with the top amount of constructed dry bulk carriers. 2020 stands tall with 107 ships built then, after 8 years of decrease in shipbuilding."
   ]
  },
  {
   "cell_type": "markdown",
   "id": "aa841d35",
   "metadata": {},
   "source": [
    "### Construction Years"
   ]
  },
  {
   "cell_type": "code",
   "execution_count": 137,
   "id": "a5008563",
   "metadata": {},
   "outputs": [],
   "source": [
    "vessels['Contruction Years'] = vessels['Year Built'] - vessels['Year Order placed']"
   ]
  },
  {
   "cell_type": "code",
   "execution_count": 147,
   "id": "37beb871",
   "metadata": {},
   "outputs": [
    {
     "data": {
      "text/plain": [
       "3    521\n",
       "2    516\n",
       "4    336\n",
       "5    202\n",
       "1    193\n",
       "6    108\n",
       "7     19\n",
       "0     13\n",
       "8      2\n",
       "Name: Contruction Years, dtype: int64"
      ]
     },
     "execution_count": 147,
     "metadata": {},
     "output_type": "execute_result"
    }
   ],
   "source": [
    "vessels['Contruction Years'].value_counts()"
   ]
  },
  {
   "cell_type": "code",
   "execution_count": 146,
   "id": "d758c50f",
   "metadata": {},
   "outputs": [
    {
     "data": {
      "text/plain": [
       "3.1094240837696336"
      ]
     },
     "execution_count": 146,
     "metadata": {},
     "output_type": "execute_result"
    }
   ],
   "source": [
    "vessels['Contruction Years'].mean()"
   ]
  },
  {
   "cell_type": "code",
   "execution_count": 138,
   "id": "241d5fee",
   "metadata": {},
   "outputs": [
    {
     "data": {
      "text/html": [
       "<div>\n",
       "<style scoped>\n",
       "    .dataframe tbody tr th:only-of-type {\n",
       "        vertical-align: middle;\n",
       "    }\n",
       "\n",
       "    .dataframe tbody tr th {\n",
       "        vertical-align: top;\n",
       "    }\n",
       "\n",
       "    .dataframe thead th {\n",
       "        text-align: right;\n",
       "    }\n",
       "</style>\n",
       "<table border=\"1\" class=\"dataframe\">\n",
       "  <thead>\n",
       "    <tr style=\"text-align: right;\">\n",
       "      <th></th>\n",
       "      <th>Dwt</th>\n",
       "    </tr>\n",
       "    <tr>\n",
       "      <th>Contruction Years</th>\n",
       "      <th></th>\n",
       "    </tr>\n",
       "  </thead>\n",
       "  <tbody>\n",
       "    <tr>\n",
       "      <th>3</th>\n",
       "      <td>403880</td>\n",
       "    </tr>\n",
       "    <tr>\n",
       "      <th>4</th>\n",
       "      <td>403844</td>\n",
       "    </tr>\n",
       "    <tr>\n",
       "      <th>2</th>\n",
       "      <td>403818</td>\n",
       "    </tr>\n",
       "    <tr>\n",
       "      <th>3</th>\n",
       "      <td>403811</td>\n",
       "    </tr>\n",
       "    <tr>\n",
       "      <th>4</th>\n",
       "      <td>403784</td>\n",
       "    </tr>\n",
       "    <tr>\n",
       "      <th>3</th>\n",
       "      <td>403727</td>\n",
       "    </tr>\n",
       "    <tr>\n",
       "      <th>3</th>\n",
       "      <td>403627</td>\n",
       "    </tr>\n",
       "    <tr>\n",
       "      <th>7</th>\n",
       "      <td>403508</td>\n",
       "    </tr>\n",
       "    <tr>\n",
       "      <th>2</th>\n",
       "      <td>402387</td>\n",
       "    </tr>\n",
       "    <tr>\n",
       "      <th>2</th>\n",
       "      <td>402347</td>\n",
       "    </tr>\n",
       "  </tbody>\n",
       "</table>\n",
       "</div>"
      ],
      "text/plain": [
       "                      Dwt\n",
       "Contruction Years        \n",
       "3                  403880\n",
       "4                  403844\n",
       "2                  403818\n",
       "3                  403811\n",
       "4                  403784\n",
       "3                  403727\n",
       "3                  403627\n",
       "7                  403508\n",
       "2                  402387\n",
       "2                  402347"
      ]
     },
     "execution_count": 138,
     "metadata": {},
     "output_type": "execute_result"
    }
   ],
   "source": [
    "vessels.nlargest(10, 'Dwt')[['Contruction Years', 'Dwt']].set_index('Contruction Years')"
   ]
  },
  {
   "cell_type": "code",
   "execution_count": 142,
   "id": "9d6492a3",
   "metadata": {},
   "outputs": [
    {
     "data": {
      "text/html": [
       "<div>\n",
       "<style scoped>\n",
       "    .dataframe tbody tr th:only-of-type {\n",
       "        vertical-align: middle;\n",
       "    }\n",
       "\n",
       "    .dataframe tbody tr th {\n",
       "        vertical-align: top;\n",
       "    }\n",
       "\n",
       "    .dataframe thead th {\n",
       "        text-align: right;\n",
       "    }\n",
       "</style>\n",
       "<table border=\"1\" class=\"dataframe\">\n",
       "  <thead>\n",
       "    <tr style=\"text-align: right;\">\n",
       "      <th></th>\n",
       "      <th>Dwt</th>\n",
       "    </tr>\n",
       "    <tr>\n",
       "      <th>Contruction Years</th>\n",
       "      <th></th>\n",
       "    </tr>\n",
       "  </thead>\n",
       "  <tbody>\n",
       "    <tr>\n",
       "      <th>6</th>\n",
       "      <td>120397</td>\n",
       "    </tr>\n",
       "    <tr>\n",
       "      <th>6</th>\n",
       "      <td>120000</td>\n",
       "    </tr>\n",
       "    <tr>\n",
       "      <th>3</th>\n",
       "      <td>120000</td>\n",
       "    </tr>\n",
       "    <tr>\n",
       "      <th>3</th>\n",
       "      <td>120000</td>\n",
       "    </tr>\n",
       "    <tr>\n",
       "      <th>3</th>\n",
       "      <td>120000</td>\n",
       "    </tr>\n",
       "    <tr>\n",
       "      <th>1</th>\n",
       "      <td>120000</td>\n",
       "    </tr>\n",
       "    <tr>\n",
       "      <th>2</th>\n",
       "      <td>120000</td>\n",
       "    </tr>\n",
       "    <tr>\n",
       "      <th>2</th>\n",
       "      <td>120000</td>\n",
       "    </tr>\n",
       "    <tr>\n",
       "      <th>2</th>\n",
       "      <td>120000</td>\n",
       "    </tr>\n",
       "    <tr>\n",
       "      <th>2</th>\n",
       "      <td>120000</td>\n",
       "    </tr>\n",
       "  </tbody>\n",
       "</table>\n",
       "</div>"
      ],
      "text/plain": [
       "                      Dwt\n",
       "Contruction Years        \n",
       "6                  120397\n",
       "6                  120000\n",
       "3                  120000\n",
       "3                  120000\n",
       "3                  120000\n",
       "1                  120000\n",
       "2                  120000\n",
       "2                  120000\n",
       "2                  120000\n",
       "2                  120000"
      ]
     },
     "execution_count": 142,
     "metadata": {},
     "output_type": "execute_result"
    }
   ],
   "source": [
    "vessels.nsmallest(10, 'Dwt')[['Contruction Years', 'Dwt']].set_index('Contruction Years').sort_values(by='Dwt', ascending=False)"
   ]
  },
  {
   "cell_type": "markdown",
   "id": "1f5911fe",
   "metadata": {},
   "source": [
    "The years of constructions don't have to do with the vessel's capacity."
   ]
  },
  {
   "cell_type": "markdown",
   "id": "10998353",
   "metadata": {},
   "source": [
    "### Standard Design"
   ]
  },
  {
   "cell_type": "code",
   "execution_count": 18,
   "id": "d8cce346",
   "metadata": {},
   "outputs": [
    {
     "data": {
      "text/plain": [
       "Imabari 181       118\n",
       "BC 1800            84\n",
       "DOLPHIN 176        80\n",
       "SWS-177BC          72\n",
       "Hyundai 180BC      70\n",
       "                 ... \n",
       "Namura 171BC        1\n",
       "Sanoyas 120         1\n",
       "Mitsui 182 NEO      1\n",
       "Samsung 149K        1\n",
       "SamsungHI 149K      1\n",
       "Name: Standard_Design, Length: 96, dtype: int64"
      ]
     },
     "execution_count": 18,
     "metadata": {},
     "output_type": "execute_result"
    }
   ],
   "source": [
    "vessels['Standard_Design'].value_counts()"
   ]
  },
  {
   "cell_type": "code",
   "execution_count": 11,
   "id": "175e68ec",
   "metadata": {},
   "outputs": [
    {
     "data": {
      "text/plain": [
       "Japan    118\n",
       "Name: Country of Build, dtype: int64"
      ]
     },
     "execution_count": 11,
     "metadata": {},
     "output_type": "execute_result"
    }
   ],
   "source": [
    "vessels[vessels['Standard_Design'] == 'Imabari 181']['Country of Build']"
   ]
  },
  {
   "cell_type": "markdown",
   "id": "957144b2",
   "metadata": {},
   "source": [
    "The most popular design was constructed in Japan."
   ]
  },
  {
   "cell_type": "markdown",
   "id": "d8d2a9b7",
   "metadata": {},
   "source": [
    "### Shipbuilder"
   ]
  },
  {
   "cell_type": "code",
   "execution_count": 143,
   "id": "e3b0c015",
   "metadata": {},
   "outputs": [
    {
     "data": {
      "text/plain": [
       "Shanghai Waigaoqiao Shbldg        264\n",
       "Imabari Shbldg - Saijo            124\n",
       "Qingdao Beihai Shipbuilding HI    105\n",
       "Namura Shipbuilding - Imari       101\n",
       "New Times Shipbuilding Co Ltd      93\n",
       "                                 ... \n",
       "Zhoushan Changhong Intl Shyd        1\n",
       "Kawasaki HI - Sakaide - earl        1\n",
       "COMEC                               1\n",
       "Orient Shipyard - Gwangyang         1\n",
       "Sanoyas Shipbuilding Corp           1\n",
       "Name: Shipbuilder, Length: 74, dtype: int64"
      ]
     },
     "execution_count": 143,
     "metadata": {},
     "output_type": "execute_result"
    }
   ],
   "source": [
    "vessels.Shipbuilder.value_counts()"
   ]
  },
  {
   "cell_type": "markdown",
   "id": "61ad5dd7",
   "metadata": {},
   "source": [
    "### Dwt"
   ]
  },
  {
   "cell_type": "markdown",
   "id": "86657914",
   "metadata": {},
   "source": [
    "##### According to the statistics table above, using the perecentiles as a guide we can define the following function"
   ]
  },
  {
   "cell_type": "code",
   "execution_count": 19,
   "id": "75a3297c",
   "metadata": {},
   "outputs": [
    {
     "data": {
      "text/plain": [
       "0       Average\n",
       "1       Average\n",
       "2         Small\n",
       "3         Small\n",
       "4       Average\n",
       "         ...   \n",
       "1905    Average\n",
       "1906    Average\n",
       "1907    Average\n",
       "1908    Average\n",
       "1909    Average\n",
       "Name: Dwt, Length: 1910, dtype: object"
      ]
     },
     "execution_count": 19,
     "metadata": {},
     "output_type": "execute_result"
    }
   ],
   "source": [
    "def weight(weight):\n",
    "    if weight >= 208396:\n",
    "        return 'Big'\n",
    "    elif weight >= 178978:\n",
    "        return 'Average'\n",
    "    else:\n",
    "        return 'Small'\n",
    "\n",
    "vessels['Dwt'].apply(weight)"
   ]
  },
  {
   "cell_type": "code",
   "execution_count": 20,
   "id": "0dd8381b",
   "metadata": {},
   "outputs": [],
   "source": [
    "vessels['Rating_Dwt'] = vessels['Dwt'].apply(weight)"
   ]
  },
  {
   "cell_type": "code",
   "execution_count": 21,
   "id": "739047d8",
   "metadata": {},
   "outputs": [
    {
     "data": {
      "text/plain": [
       "Average    955\n",
       "Big        478\n",
       "Small      477\n",
       "Name: Rating_Dwt, dtype: int64"
      ]
     },
     "execution_count": 21,
     "metadata": {},
     "output_type": "execute_result"
    }
   ],
   "source": [
    "vessels.Rating_Dwt.value_counts()"
   ]
  },
  {
   "cell_type": "markdown",
   "id": "ba0763c6",
   "metadata": {},
   "source": [
    "The majority of the vessels' dwt is between 178k and 208k."
   ]
  },
  {
   "cell_type": "code",
   "execution_count": 24,
   "id": "a9130d67",
   "metadata": {},
   "outputs": [
    {
     "data": {
      "text/plain": [
       "China       306\n",
       "Japan       122\n",
       "S. Korea     47\n",
       "Taiwan        3\n",
       "Name: Country of Build, dtype: int64"
      ]
     },
     "execution_count": 24,
     "metadata": {},
     "output_type": "execute_result"
    }
   ],
   "source": [
    "vessels[vessels['Rating_Dwt'] == 'Big']['Country of Build'].value_counts()"
   ]
  },
  {
   "cell_type": "markdown",
   "id": "6abed959",
   "metadata": {},
   "source": [
    "China and Japan are leading the way for the biggest capacity weight, for the construction of bigger vessels."
   ]
  },
  {
   "cell_type": "code",
   "execution_count": 25,
   "id": "315d94f5",
   "metadata": {},
   "outputs": [
    {
     "data": {
      "text/plain": [
       "Japan          367\n",
       "China          315\n",
       "S. Korea       211\n",
       "Philippines     40\n",
       "Romania         10\n",
       "Denmark          6\n",
       "Taiwan           6\n",
       "Name: Country of Build, dtype: int64"
      ]
     },
     "execution_count": 25,
     "metadata": {},
     "output_type": "execute_result"
    }
   ],
   "source": [
    "vessels[vessels['Rating_Dwt'] == 'Average']['Country of Build'].value_counts()"
   ]
  },
  {
   "cell_type": "code",
   "execution_count": 26,
   "id": "116c99c5",
   "metadata": {},
   "outputs": [
    {
     "data": {
      "text/plain": [
       "China          248\n",
       "Japan          116\n",
       "S. Korea        99\n",
       "Taiwan          11\n",
       "Philippines      3\n",
       "Name: Country of Build, dtype: int64"
      ]
     },
     "execution_count": 26,
     "metadata": {},
     "output_type": "execute_result"
    }
   ],
   "source": [
    "vessels[vessels['Rating_Dwt'] == 'Small']['Country of Build'].value_counts()"
   ]
  },
  {
   "cell_type": "code",
   "execution_count": 32,
   "id": "3ad18c2b",
   "metadata": {},
   "outputs": [
    {
     "data": {
      "text/plain": [
       "2020    59\n",
       "2021    51\n",
       "2019    43\n",
       "2012    36\n",
       "2018    34\n",
       "2022    31\n",
       "2017    30\n",
       "2023    27\n",
       "2013    27\n",
       "2016    23\n",
       "2011    23\n",
       "2024    18\n",
       "2014    17\n",
       "2015    17\n",
       "2010    15\n",
       "2009    12\n",
       "2008     7\n",
       "2007     3\n",
       "2004     2\n",
       "2002     1\n",
       "2006     1\n",
       "1996     1\n",
       "Name: Year Built, dtype: int64"
      ]
     },
     "execution_count": 32,
     "metadata": {},
     "output_type": "execute_result"
    }
   ],
   "source": [
    "vessels[vessels['Rating_Dwt'] == 'Big']['Year Built'].value_counts()"
   ]
  },
  {
   "cell_type": "code",
   "execution_count": 145,
   "id": "08e99c71",
   "metadata": {},
   "outputs": [
    {
     "data": {
      "text/plain": [
       "Year Built\n",
       "2012    403880\n",
       "2013    403844\n",
       "2011    403818\n",
       "2016    403508\n",
       "2014    400101\n",
       "2015    400032\n",
       "2018    399999\n",
       "2020    399821\n",
       "2019    399688\n",
       "2007    327017\n",
       "2008    326964\n",
       "2009    326932\n",
       "2022    325350\n",
       "2021    324988\n",
       "2017    300660\n",
       "2010    298172\n",
       "1996    268025\n",
       "2004    233694\n",
       "2002    233584\n",
       "2006    229045\n",
       "2024    211000\n",
       "2023    210000\n",
       "2005    206312\n",
       "2003    203508\n",
       "2001    174285\n",
       "1999    172964\n",
       "2000    172572\n",
       "1998    151249\n",
       "1997    149350\n",
       "Name: Dwt, dtype: int64"
      ]
     },
     "execution_count": 145,
     "metadata": {},
     "output_type": "execute_result"
    }
   ],
   "source": [
    "vessels.groupby('Year Built')['Dwt'].max().sort_values(ascending=False)"
   ]
  },
  {
   "cell_type": "code",
   "execution_count": 144,
   "id": "941dc4d7",
   "metadata": {},
   "outputs": [
    {
     "data": {
      "text/plain": [
       "Country of Build\n",
       "S. Korea       403880\n",
       "China          403784\n",
       "Japan          399821\n",
       "Taiwan         208480\n",
       "Philippines    205616\n",
       "Denmark        182060\n",
       "Romania        179827\n",
       "Name: Dwt, dtype: int64"
      ]
     },
     "execution_count": 144,
     "metadata": {},
     "output_type": "execute_result"
    }
   ],
   "source": [
    "vessels.groupby('Country of Build')['Dwt'].max().sort_values(ascending=False)"
   ]
  },
  {
   "cell_type": "markdown",
   "id": "9f23fa40",
   "metadata": {},
   "source": [
    "### Country of Build"
   ]
  },
  {
   "cell_type": "code",
   "execution_count": 76,
   "id": "a6199495",
   "metadata": {},
   "outputs": [
    {
     "data": {
      "text/plain": [
       "China          869\n",
       "Japan          605\n",
       "S. Korea       357\n",
       "Philippines     43\n",
       "Taiwan          20\n",
       "Romania         10\n",
       "Denmark          6\n",
       "Name: Country of Build, dtype: int64"
      ]
     },
     "execution_count": 76,
     "metadata": {},
     "output_type": "execute_result"
    }
   ],
   "source": [
    "vessels['Country of Build'].value_counts()"
   ]
  },
  {
   "cell_type": "code",
   "execution_count": 12,
   "id": "d3ad9e84",
   "metadata": {},
   "outputs": [
    {
     "data": {
      "image/png": "[encoded data removed]",
      "text/plain": [
       "<Figure size 1080x576 with 1 Axes>"
      ]
     },
     "metadata": {
      "needs_background": "light"
     },
     "output_type": "display_data"
    }
   ],
   "source": [
    "plt.figure(figsize=(15,8))\n",
    "sns.boxplot(x='Country of Build', y='Year Built', data=vessels)\n",
    "plt.title('Countries per Year Built')\n",
    "plt.savefig('Countries per Year Built.jpg')\n",
    "plt.show()"
   ]
  },
  {
   "cell_type": "markdown",
   "id": "6b196913",
   "metadata": {},
   "source": [
    "In China was build the highest number of capesize vessels. Asia showing the way of shipbuilding with Europe joins the table with 2 countries at the bottom. They can't compare with the huge numbers of the top."
   ]
  },
  {
   "cell_type": "markdown",
   "id": "07a2be17",
   "metadata": {},
   "source": [
    "#### China"
   ]
  },
  {
   "cell_type": "code",
   "execution_count": 8,
   "id": "b7f42bfb",
   "metadata": {},
   "outputs": [
    {
     "data": {
      "text/html": [
       "<div>\n",
       "<style scoped>\n",
       "    .dataframe tbody tr th:only-of-type {\n",
       "        vertical-align: middle;\n",
       "    }\n",
       "\n",
       "    .dataframe tbody tr th {\n",
       "        vertical-align: top;\n",
       "    }\n",
       "\n",
       "    .dataframe thead th {\n",
       "        text-align: right;\n",
       "    }\n",
       "</style>\n",
       "<table border=\"1\" class=\"dataframe\">\n",
       "  <thead>\n",
       "    <tr style=\"text-align: right;\">\n",
       "      <th></th>\n",
       "      <th>LR/IMO Ship No</th>\n",
       "      <th>Vessel Name</th>\n",
       "      <th>Year Built</th>\n",
       "      <th>Month Built</th>\n",
       "      <th>Dwt</th>\n",
       "      <th>Owner</th>\n",
       "      <th>Status</th>\n",
       "      <th>Shipbuilder</th>\n",
       "      <th>Country of Build</th>\n",
       "      <th>Year Order placed</th>\n",
       "      <th>Month Order placed</th>\n",
       "      <th>Owner Country</th>\n",
       "      <th>Standard_Design</th>\n",
       "    </tr>\n",
       "  </thead>\n",
       "  <tbody>\n",
       "    <tr>\n",
       "      <th>0</th>\n",
       "      <td>9738571</td>\n",
       "      <td>MINERAL YANGFAN</td>\n",
       "      <td>2019</td>\n",
       "      <td>10</td>\n",
       "      <td>206392</td>\n",
       "      <td>CMB NV</td>\n",
       "      <td>Active</td>\n",
       "      <td>Qingdao Yangfan Shipbuilding</td>\n",
       "      <td>China</td>\n",
       "      <td>2013</td>\n",
       "      <td>12</td>\n",
       "      <td>Belgium</td>\n",
       "      <td>Yangfan 206BC</td>\n",
       "    </tr>\n",
       "    <tr>\n",
       "      <th>2</th>\n",
       "      <td>9567025</td>\n",
       "      <td>MINERAL HOPE</td>\n",
       "      <td>2012</td>\n",
       "      <td>6</td>\n",
       "      <td>175591</td>\n",
       "      <td>CMB NV</td>\n",
       "      <td>Active</td>\n",
       "      <td>Jinhai Heavy Industry Co Ltd</td>\n",
       "      <td>China</td>\n",
       "      <td>2006</td>\n",
       "      <td>11</td>\n",
       "      <td>Belgium</td>\n",
       "      <td>DOLPHIN 176</td>\n",
       "    </tr>\n",
       "    <tr>\n",
       "      <th>3</th>\n",
       "      <td>9575668</td>\n",
       "      <td>MINERAL FAITH</td>\n",
       "      <td>2012</td>\n",
       "      <td>6</td>\n",
       "      <td>175620</td>\n",
       "      <td>CMB NV</td>\n",
       "      <td>Active</td>\n",
       "      <td>Jinhai Heavy Industry Co Ltd</td>\n",
       "      <td>China</td>\n",
       "      <td>2006</td>\n",
       "      <td>11</td>\n",
       "      <td>Belgium</td>\n",
       "      <td>DOLPHIN 176</td>\n",
       "    </tr>\n",
       "    <tr>\n",
       "      <th>7</th>\n",
       "      <td>9435076</td>\n",
       "      <td>MINERAL GENT</td>\n",
       "      <td>2011</td>\n",
       "      <td>4</td>\n",
       "      <td>175181</td>\n",
       "      <td>Iyo Nassen Co Ltd</td>\n",
       "      <td>Active</td>\n",
       "      <td>New Times Shipbuilding Co Ltd</td>\n",
       "      <td>China</td>\n",
       "      <td>2007</td>\n",
       "      <td>3</td>\n",
       "      <td>Japan</td>\n",
       "      <td>DOLPHIN 176</td>\n",
       "    </tr>\n",
       "    <tr>\n",
       "      <th>8</th>\n",
       "      <td>9435064</td>\n",
       "      <td>MINERAL BRUGGE</td>\n",
       "      <td>2011</td>\n",
       "      <td>2</td>\n",
       "      <td>175155</td>\n",
       "      <td>ETCM Holdings LLC</td>\n",
       "      <td>Active</td>\n",
       "      <td>New Times Shipbuilding Co Ltd</td>\n",
       "      <td>China</td>\n",
       "      <td>2006</td>\n",
       "      <td>12</td>\n",
       "      <td>Cayman Islands</td>\n",
       "      <td>DOLPHIN 176</td>\n",
       "    </tr>\n",
       "  </tbody>\n",
       "</table>\n",
       "</div>"
      ],
      "text/plain": [
       "   LR/IMO Ship No      Vessel Name  Year Built  Month Built     Dwt  \\\n",
       "0         9738571  MINERAL YANGFAN        2019           10  206392   \n",
       "2         9567025     MINERAL HOPE        2012            6  175591   \n",
       "3         9575668    MINERAL FAITH        2012            6  175620   \n",
       "7         9435076     MINERAL GENT        2011            4  175181   \n",
       "8         9435064   MINERAL BRUGGE        2011            2  175155   \n",
       "\n",
       "               Owner  Status                    Shipbuilder Country of Build  \\\n",
       "0             CMB NV  Active   Qingdao Yangfan Shipbuilding            China   \n",
       "2             CMB NV  Active   Jinhai Heavy Industry Co Ltd            China   \n",
       "3             CMB NV  Active   Jinhai Heavy Industry Co Ltd            China   \n",
       "7  Iyo Nassen Co Ltd  Active  New Times Shipbuilding Co Ltd            China   \n",
       "8  ETCM Holdings LLC  Active  New Times Shipbuilding Co Ltd            China   \n",
       "\n",
       "   Year Order placed  Month Order placed   Owner Country Standard_Design  \n",
       "0               2013                  12         Belgium   Yangfan 206BC  \n",
       "2               2006                  11         Belgium     DOLPHIN 176  \n",
       "3               2006                  11         Belgium     DOLPHIN 176  \n",
       "7               2007                   3           Japan     DOLPHIN 176  \n",
       "8               2006                  12  Cayman Islands     DOLPHIN 176  "
      ]
     },
     "execution_count": 8,
     "metadata": {},
     "output_type": "execute_result"
    }
   ],
   "source": [
    "china = vessels[vessels['Country of Build'] == 'China']\n",
    "china.head()"
   ]
  },
  {
   "cell_type": "code",
   "execution_count": 12,
   "id": "cb881da4",
   "metadata": {},
   "outputs": [
    {
     "data": {
      "text/html": [
       "<div>\n",
       "<style scoped>\n",
       "    .dataframe tbody tr th:only-of-type {\n",
       "        vertical-align: middle;\n",
       "    }\n",
       "\n",
       "    .dataframe tbody tr th {\n",
       "        vertical-align: top;\n",
       "    }\n",
       "\n",
       "    .dataframe thead th {\n",
       "        text-align: right;\n",
       "    }\n",
       "</style>\n",
       "<table border=\"1\" class=\"dataframe\">\n",
       "  <thead>\n",
       "    <tr style=\"text-align: right;\">\n",
       "      <th></th>\n",
       "      <th>LR/IMO Ship No</th>\n",
       "      <th>Vessel Name</th>\n",
       "      <th>Year Built</th>\n",
       "      <th>Month Built</th>\n",
       "      <th>Dwt</th>\n",
       "      <th>Owner</th>\n",
       "      <th>Status</th>\n",
       "      <th>Shipbuilder</th>\n",
       "      <th>Country of Build</th>\n",
       "      <th>Year Order placed</th>\n",
       "      <th>Month Order placed</th>\n",
       "      <th>Owner Country</th>\n",
       "      <th>Standard_Design</th>\n",
       "    </tr>\n",
       "  </thead>\n",
       "  <tbody>\n",
       "    <tr>\n",
       "      <th>count</th>\n",
       "      <td>8.690000e+02</td>\n",
       "      <td>869</td>\n",
       "      <td>869.000000</td>\n",
       "      <td>869.000000</td>\n",
       "      <td>869.000000</td>\n",
       "      <td>869</td>\n",
       "      <td>869</td>\n",
       "      <td>869</td>\n",
       "      <td>869</td>\n",
       "      <td>869.000000</td>\n",
       "      <td>869.000000</td>\n",
       "      <td>857</td>\n",
       "      <td>757</td>\n",
       "    </tr>\n",
       "    <tr>\n",
       "      <th>unique</th>\n",
       "      <td>NaN</td>\n",
       "      <td>865</td>\n",
       "      <td>NaN</td>\n",
       "      <td>NaN</td>\n",
       "      <td>NaN</td>\n",
       "      <td>164</td>\n",
       "      <td>2</td>\n",
       "      <td>35</td>\n",
       "      <td>1</td>\n",
       "      <td>NaN</td>\n",
       "      <td>NaN</td>\n",
       "      <td>27</td>\n",
       "      <td>33</td>\n",
       "    </tr>\n",
       "    <tr>\n",
       "      <th>top</th>\n",
       "      <td>NaN</td>\n",
       "      <td>QINGDAO BEIHAI</td>\n",
       "      <td>NaN</td>\n",
       "      <td>NaN</td>\n",
       "      <td>NaN</td>\n",
       "      <td>China Merchants Energy Shpg</td>\n",
       "      <td>Active</td>\n",
       "      <td>Shanghai Waigaoqiao Shbldg</td>\n",
       "      <td>China</td>\n",
       "      <td>NaN</td>\n",
       "      <td>NaN</td>\n",
       "      <td>China</td>\n",
       "      <td>BC 1800</td>\n",
       "    </tr>\n",
       "    <tr>\n",
       "      <th>freq</th>\n",
       "      <td>NaN</td>\n",
       "      <td>5</td>\n",
       "      <td>NaN</td>\n",
       "      <td>NaN</td>\n",
       "      <td>NaN</td>\n",
       "      <td>41</td>\n",
       "      <td>775</td>\n",
       "      <td>264</td>\n",
       "      <td>869</td>\n",
       "      <td>NaN</td>\n",
       "      <td>NaN</td>\n",
       "      <td>251</td>\n",
       "      <td>84</td>\n",
       "    </tr>\n",
       "    <tr>\n",
       "      <th>mean</th>\n",
       "      <td>9.667959e+06</td>\n",
       "      <td>NaN</td>\n",
       "      <td>2015.063291</td>\n",
       "      <td>6.101266</td>\n",
       "      <td>211896.980437</td>\n",
       "      <td>NaN</td>\n",
       "      <td>NaN</td>\n",
       "      <td>NaN</td>\n",
       "      <td>NaN</td>\n",
       "      <td>2011.724971</td>\n",
       "      <td>7.029919</td>\n",
       "      <td>NaN</td>\n",
       "      <td>NaN</td>\n",
       "    </tr>\n",
       "    <tr>\n",
       "      <th>std</th>\n",
       "      <td>1.876901e+05</td>\n",
       "      <td>NaN</td>\n",
       "      <td>5.002479</td>\n",
       "      <td>3.485171</td>\n",
       "      <td>59906.910566</td>\n",
       "      <td>NaN</td>\n",
       "      <td>NaN</td>\n",
       "      <td>NaN</td>\n",
       "      <td>NaN</td>\n",
       "      <td>5.233408</td>\n",
       "      <td>3.904568</td>\n",
       "      <td>NaN</td>\n",
       "      <td>NaN</td>\n",
       "    </tr>\n",
       "    <tr>\n",
       "      <th>min</th>\n",
       "      <td>9.255000e+06</td>\n",
       "      <td>NaN</td>\n",
       "      <td>2003.000000</td>\n",
       "      <td>1.000000</td>\n",
       "      <td>120000.000000</td>\n",
       "      <td>NaN</td>\n",
       "      <td>NaN</td>\n",
       "      <td>NaN</td>\n",
       "      <td>NaN</td>\n",
       "      <td>2001.000000</td>\n",
       "      <td>0.000000</td>\n",
       "      <td>NaN</td>\n",
       "      <td>NaN</td>\n",
       "    </tr>\n",
       "    <tr>\n",
       "      <th>25%</th>\n",
       "      <td>9.493626e+06</td>\n",
       "      <td>NaN</td>\n",
       "      <td>2011.000000</td>\n",
       "      <td>3.000000</td>\n",
       "      <td>177974.000000</td>\n",
       "      <td>NaN</td>\n",
       "      <td>NaN</td>\n",
       "      <td>NaN</td>\n",
       "      <td>NaN</td>\n",
       "      <td>2007.000000</td>\n",
       "      <td>4.000000</td>\n",
       "      <td>NaN</td>\n",
       "      <td>NaN</td>\n",
       "    </tr>\n",
       "    <tr>\n",
       "      <th>50%</th>\n",
       "      <td>9.695092e+06</td>\n",
       "      <td>NaN</td>\n",
       "      <td>2015.000000</td>\n",
       "      <td>6.000000</td>\n",
       "      <td>203149.000000</td>\n",
       "      <td>NaN</td>\n",
       "      <td>NaN</td>\n",
       "      <td>NaN</td>\n",
       "      <td>NaN</td>\n",
       "      <td>2013.000000</td>\n",
       "      <td>7.000000</td>\n",
       "      <td>NaN</td>\n",
       "      <td>NaN</td>\n",
       "    </tr>\n",
       "    <tr>\n",
       "      <th>75%</th>\n",
       "      <td>9.847619e+06</td>\n",
       "      <td>NaN</td>\n",
       "      <td>2020.000000</td>\n",
       "      <td>9.000000</td>\n",
       "      <td>210000.000000</td>\n",
       "      <td>NaN</td>\n",
       "      <td>NaN</td>\n",
       "      <td>NaN</td>\n",
       "      <td>NaN</td>\n",
       "      <td>2015.000000</td>\n",
       "      <td>11.000000</td>\n",
       "      <td>NaN</td>\n",
       "      <td>NaN</td>\n",
       "    </tr>\n",
       "    <tr>\n",
       "      <th>max</th>\n",
       "      <td>9.957646e+06</td>\n",
       "      <td>NaN</td>\n",
       "      <td>2024.000000</td>\n",
       "      <td>12.000000</td>\n",
       "      <td>403784.000000</td>\n",
       "      <td>NaN</td>\n",
       "      <td>NaN</td>\n",
       "      <td>NaN</td>\n",
       "      <td>NaN</td>\n",
       "      <td>2021.000000</td>\n",
       "      <td>12.000000</td>\n",
       "      <td>NaN</td>\n",
       "      <td>NaN</td>\n",
       "    </tr>\n",
       "  </tbody>\n",
       "</table>\n",
       "</div>"
      ],
      "text/plain": [
       "        LR/IMO Ship No     Vessel Name   Year Built  Month Built  \\\n",
       "count     8.690000e+02             869   869.000000   869.000000   \n",
       "unique             NaN             865          NaN          NaN   \n",
       "top                NaN  QINGDAO BEIHAI          NaN          NaN   \n",
       "freq               NaN               5          NaN          NaN   \n",
       "mean      9.667959e+06             NaN  2015.063291     6.101266   \n",
       "std       1.876901e+05             NaN     5.002479     3.485171   \n",
       "min       9.255000e+06             NaN  2003.000000     1.000000   \n",
       "25%       9.493626e+06             NaN  2011.000000     3.000000   \n",
       "50%       9.695092e+06             NaN  2015.000000     6.000000   \n",
       "75%       9.847619e+06             NaN  2020.000000     9.000000   \n",
       "max       9.957646e+06             NaN  2024.000000    12.000000   \n",
       "\n",
       "                  Dwt                        Owner  Status  \\\n",
       "count      869.000000                          869     869   \n",
       "unique            NaN                          164       2   \n",
       "top               NaN  China Merchants Energy Shpg  Active   \n",
       "freq              NaN                           41     775   \n",
       "mean    211896.980437                          NaN     NaN   \n",
       "std      59906.910566                          NaN     NaN   \n",
       "min     120000.000000                          NaN     NaN   \n",
       "25%     177974.000000                          NaN     NaN   \n",
       "50%     203149.000000                          NaN     NaN   \n",
       "75%     210000.000000                          NaN     NaN   \n",
       "max     403784.000000                          NaN     NaN   \n",
       "\n",
       "                       Shipbuilder Country of Build  Year Order placed  \\\n",
       "count                          869              869         869.000000   \n",
       "unique                          35                1                NaN   \n",
       "top     Shanghai Waigaoqiao Shbldg            China                NaN   \n",
       "freq                           264              869                NaN   \n",
       "mean                           NaN              NaN        2011.724971   \n",
       "std                            NaN              NaN           5.233408   \n",
       "min                            NaN              NaN        2001.000000   \n",
       "25%                            NaN              NaN        2007.000000   \n",
       "50%                            NaN              NaN        2013.000000   \n",
       "75%                            NaN              NaN        2015.000000   \n",
       "max                            NaN              NaN        2021.000000   \n",
       "\n",
       "        Month Order placed Owner Country Standard_Design  \n",
       "count           869.000000           857             757  \n",
       "unique                 NaN            27              33  \n",
       "top                    NaN         China         BC 1800  \n",
       "freq                   NaN           251              84  \n",
       "mean              7.029919           NaN             NaN  \n",
       "std               3.904568           NaN             NaN  \n",
       "min               0.000000           NaN             NaN  \n",
       "25%               4.000000           NaN             NaN  \n",
       "50%               7.000000           NaN             NaN  \n",
       "75%              11.000000           NaN             NaN  \n",
       "max              12.000000           NaN             NaN  "
      ]
     },
     "execution_count": 12,
     "metadata": {},
     "output_type": "execute_result"
    }
   ],
   "source": [
    "china.describe(include='all')"
   ]
  },
  {
   "cell_type": "markdown",
   "id": "596628a7",
   "metadata": {},
   "source": [
    "- The dead weight was ranged between 120000 and 403784 tonnages.\n",
    "\n",
    "- Only two vessels are inactive.\n",
    "\n",
    "- The year of built is from 2003 to 2024, with an average at 2015.\n",
    "\n",
    "- The top design is BC 1800.\n",
    "\n",
    "- The top owner is China Merchants Energy Shpg with 41 vessels.\n",
    "\n",
    "- The top shipbuilder in the country is Shanghai Waigaoqiao Shbldg with 264 out of 869 ships have been constructed there."
   ]
  },
  {
   "cell_type": "code",
   "execution_count": 148,
   "id": "0a2a3684",
   "metadata": {},
   "outputs": [
    {
     "data": {
      "text/plain": [
       "China        251\n",
       "Greece       139\n",
       "Bermuda       83\n",
       "Hong Kong     55\n",
       "S. Korea      55\n",
       "Name: Owner Country, dtype: int64"
      ]
     },
     "execution_count": 148,
     "metadata": {},
     "output_type": "execute_result"
    }
   ],
   "source": [
    "china['Owner Country'].value_counts().head()"
   ]
  },
  {
   "cell_type": "code",
   "execution_count": 149,
   "id": "8acd0970",
   "metadata": {},
   "outputs": [
    {
     "data": {
      "text/plain": [
       "2006    134\n",
       "2015    100\n",
       "2007     92\n",
       "2013     90\n",
       "2014     64\n",
       "Name: Year Order placed, dtype: int64"
      ]
     },
     "execution_count": 149,
     "metadata": {},
     "output_type": "execute_result"
    }
   ],
   "source": [
    "china['Year Order placed'].value_counts().head()"
   ]
  },
  {
   "cell_type": "code",
   "execution_count": 127,
   "id": "7b04dd66",
   "metadata": {},
   "outputs": [
    {
     "data": {
      "text/plain": [
       "<AxesSubplot:xlabel='Year Built'>"
      ]
     },
     "execution_count": 127,
     "metadata": {},
     "output_type": "execute_result"
    },
    {
     "data": {
      "image/png": "[encoded data removed]",
      "text/plain": [
       "<Figure size 432x288 with 1 Axes>"
      ]
     },
     "metadata": {
      "needs_background": "light"
     },
     "output_type": "display_data"
    }
   ],
   "source": [
    "sns.distplot(china['Year Built'], hist=True, kde=False, norm_hist=False,\n",
    "color = 'red', hist_kws={'edgecolor':'black'})"
   ]
  },
  {
   "cell_type": "code",
   "execution_count": 129,
   "id": "2e088f5e",
   "metadata": {},
   "outputs": [
    {
     "data": {
      "text/plain": [
       "Shanghai Waigaoqiao Shbldg        264\n",
       "Qingdao Beihai Shipbuilding HI    105\n",
       "New Times Shipbuilding Co Ltd      93\n",
       "Dalian Shipbuilding Ind - No 2     50\n",
       "Jinhai Heavy Industry Co Ltd       41\n",
       "Bohai Shipbuilding Heavy Ind       40\n",
       "Nantong COSCO KHI Ship Eng         37\n",
       "COSCO Shipping HI Yangzhou         31\n",
       "Shanghai Jiangnan Changxing SB     28\n",
       "Jiangsu Rongsheng Shipbuilding     27\n",
       "Name: Shipbuilder, dtype: int64"
      ]
     },
     "execution_count": 129,
     "metadata": {},
     "output_type": "execute_result"
    }
   ],
   "source": [
    "china.Shipbuilder.value_counts().head(10)"
   ]
  },
  {
   "cell_type": "code",
   "execution_count": 174,
   "id": "645641b4",
   "metadata": {},
   "outputs": [
    {
     "data": {
      "text/plain": [
       "Year Built  Owner                        \n",
       "2018        China Merchants Energy Shpg      15\n",
       "2021        COSCO Shipping Financial Co      15\n",
       "2022          Unknown                        11\n",
       "2014        Golden Ocean Group Ltd            8\n",
       "2016        Oldendorff Carriers GmbH & Co     7\n",
       "2020        Bank of Communications            7\n",
       "2021        Bank of Communications            7\n",
       "            ICBC Financial Leasing Co Ltd     7\n",
       "2023        Himalaya Shipping Ltd             6\n",
       "2012        China Merchants Energy Shpg       6\n",
       "Name: Owner, dtype: int64"
      ]
     },
     "execution_count": 174,
     "metadata": {},
     "output_type": "execute_result"
    }
   ],
   "source": [
    "china.groupby('Year Built')['Owner'].value_counts().sort_values(ascending=False).head(10)"
   ]
  },
  {
   "cell_type": "markdown",
   "id": "091f266e",
   "metadata": {},
   "source": [
    "### Owner Country"
   ]
  },
  {
   "cell_type": "code",
   "execution_count": 8,
   "id": "0768bfd6",
   "metadata": {},
   "outputs": [
    {
     "data": {
      "text/plain": [
       "Japan        360\n",
       "Greece       358\n",
       "China        298\n",
       "S. Korea     157\n",
       "Bermuda      134\n",
       "Singapore    101\n",
       "Hong Kong     80\n",
       "Taiwan        78\n",
       "U. S. A.      61\n",
       "Monaco        56\n",
       "Name: Owner Country, dtype: int64"
      ]
     },
     "execution_count": 8,
     "metadata": {},
     "output_type": "execute_result"
    }
   ],
   "source": [
    "vessels['Owner Country'].value_counts().head(10)"
   ]
  },
  {
   "cell_type": "markdown",
   "id": "55a02bef",
   "metadata": {},
   "source": [
    "The battle between the countries that own the highest number of vessels is between Japan and Greece with 360 and 358 capesize tankers respectively. China follows along with 298 and finally S.Korea takes the fourth place with 157 vessels."
   ]
  },
  {
   "cell_type": "markdown",
   "id": "3dcbc246",
   "metadata": {},
   "source": [
    "#### Japan"
   ]
  },
  {
   "cell_type": "code",
   "execution_count": 168,
   "id": "c458f21f",
   "metadata": {},
   "outputs": [
    {
     "data": {
      "text/plain": [
       "2012    56\n",
       "2011    49\n",
       "2013    35\n",
       "2010    33\n",
       "2020    26\n",
       "Name: Year Built, dtype: int64"
      ]
     },
     "execution_count": 168,
     "metadata": {},
     "output_type": "execute_result"
    }
   ],
   "source": [
    "vessels[vessels['Owner Country'] == 'Japan']['Year Built'].value_counts().head()"
   ]
  },
  {
   "cell_type": "code",
   "execution_count": 162,
   "id": "e4ef048f",
   "metadata": {},
   "outputs": [
    {
     "data": {
      "text/plain": [
       "Mitsui OSK Lines Ltd          36\n",
       "Kawasaki Kisen Kaisha Ltd     27\n",
       "NS United Kaiun Kaisha Ltd    25\n",
       "Nissen Kaiun Co Ltd           22\n",
       "NYK Line                      20\n",
       "Mizuho Sangyo Co Ltd          20\n",
       "Shoei Kisen KK                19\n",
       "Seno Kisen KK                 11\n",
       "Santoku Senpaku Co Ltd        10\n",
       "Shunzan Kaiun KK              10\n",
       "Name: Owner, dtype: int64"
      ]
     },
     "execution_count": 162,
     "metadata": {},
     "output_type": "execute_result"
    }
   ],
   "source": [
    "vessels[vessels['Owner Country'] == 'Japan']['Owner'].value_counts().head(10)"
   ]
  },
  {
   "cell_type": "code",
   "execution_count": 159,
   "id": "e3abeb01",
   "metadata": {},
   "outputs": [
    {
     "data": {
      "text/html": [
       "<div>\n",
       "<style scoped>\n",
       "    .dataframe tbody tr th:only-of-type {\n",
       "        vertical-align: middle;\n",
       "    }\n",
       "\n",
       "    .dataframe tbody tr th {\n",
       "        vertical-align: top;\n",
       "    }\n",
       "\n",
       "    .dataframe thead th {\n",
       "        text-align: right;\n",
       "    }\n",
       "</style>\n",
       "<table border=\"1\" class=\"dataframe\">\n",
       "  <thead>\n",
       "    <tr style=\"text-align: right;\">\n",
       "      <th></th>\n",
       "      <th>Owner</th>\n",
       "      <th>Year Built</th>\n",
       "      <th>Count</th>\n",
       "    </tr>\n",
       "  </thead>\n",
       "  <tbody>\n",
       "    <tr>\n",
       "      <th>0</th>\n",
       "      <td>Nissen Kaiun Co Ltd</td>\n",
       "      <td>2020</td>\n",
       "      <td>8</td>\n",
       "    </tr>\n",
       "    <tr>\n",
       "      <th>1</th>\n",
       "      <td>NYK Line</td>\n",
       "      <td>2012</td>\n",
       "      <td>6</td>\n",
       "    </tr>\n",
       "    <tr>\n",
       "      <th>2</th>\n",
       "      <td>Kawasaki Kisen Kaisha Ltd</td>\n",
       "      <td>2011</td>\n",
       "      <td>6</td>\n",
       "    </tr>\n",
       "    <tr>\n",
       "      <th>3</th>\n",
       "      <td>Mitsui OSK Lines Ltd</td>\n",
       "      <td>2014</td>\n",
       "      <td>5</td>\n",
       "    </tr>\n",
       "    <tr>\n",
       "      <th>4</th>\n",
       "      <td>Seno Kisen KK</td>\n",
       "      <td>2012</td>\n",
       "      <td>5</td>\n",
       "    </tr>\n",
       "    <tr>\n",
       "      <th>5</th>\n",
       "      <td>NS United Kaiun Kaisha Ltd</td>\n",
       "      <td>2013</td>\n",
       "      <td>5</td>\n",
       "    </tr>\n",
       "    <tr>\n",
       "      <th>6</th>\n",
       "      <td>Mitsui OSK Lines Ltd</td>\n",
       "      <td>2013</td>\n",
       "      <td>5</td>\n",
       "    </tr>\n",
       "    <tr>\n",
       "      <th>7</th>\n",
       "      <td>Kawasaki Kisen Kaisha Ltd</td>\n",
       "      <td>2012</td>\n",
       "      <td>5</td>\n",
       "    </tr>\n",
       "    <tr>\n",
       "      <th>8</th>\n",
       "      <td>Mitsui OSK Lines Ltd</td>\n",
       "      <td>2012</td>\n",
       "      <td>4</td>\n",
       "    </tr>\n",
       "    <tr>\n",
       "      <th>9</th>\n",
       "      <td>Kawasaki Kisen Kaisha Ltd</td>\n",
       "      <td>2010</td>\n",
       "      <td>4</td>\n",
       "    </tr>\n",
       "  </tbody>\n",
       "</table>\n",
       "</div>"
      ],
      "text/plain": [
       "                        Owner  Year Built  Count\n",
       "0         Nissen Kaiun Co Ltd        2020      8\n",
       "1                    NYK Line        2012      6\n",
       "2   Kawasaki Kisen Kaisha Ltd        2011      6\n",
       "3        Mitsui OSK Lines Ltd        2014      5\n",
       "4               Seno Kisen KK        2012      5\n",
       "5  NS United Kaiun Kaisha Ltd        2013      5\n",
       "6        Mitsui OSK Lines Ltd        2013      5\n",
       "7   Kawasaki Kisen Kaisha Ltd        2012      5\n",
       "8        Mitsui OSK Lines Ltd        2012      4\n",
       "9   Kawasaki Kisen Kaisha Ltd        2010      4"
      ]
     },
     "execution_count": 159,
     "metadata": {},
     "output_type": "execute_result"
    }
   ],
   "source": [
    "owner_year = vessels[vessels['Owner Country'] == 'Japan'][['Owner', 'Year Built']].value_counts().reset_index()\n",
    "owner_year = owner_year.rename(columns={0: \"Count\"})\n",
    "owner_year.head(10)"
   ]
  },
  {
   "cell_type": "code",
   "execution_count": 153,
   "id": "914e9d1a",
   "metadata": {},
   "outputs": [
    {
     "data": {
      "text/plain": [
       "<AxesSubplot:xlabel='Year Built'>"
      ]
     },
     "execution_count": 153,
     "metadata": {},
     "output_type": "execute_result"
    },
    {
     "data": {
      "image/png": "[encoded data removed]",
      "text/plain": [
       "<Figure size 432x288 with 1 Axes>"
      ]
     },
     "metadata": {
      "needs_background": "light"
     },
     "output_type": "display_data"
    }
   ],
   "source": [
    "sns.distplot(owner_year['Year Built'], hist=True, kde=False, norm_hist=False,\n",
    "color = 'red', hist_kws={'edgecolor':'black'})\n"
   ]
  },
  {
   "cell_type": "code",
   "execution_count": null,
   "id": "62081cbf",
   "metadata": {},
   "outputs": [],
   "source": []
  }
 ],
 "metadata": {
  "kernelspec": {
   "display_name": "Python 3",
   "language": "python",
   "name": "python3"
  },
  "language_info": {
   "codemirror_mode": {
    "name": "ipython",
    "version": 3
   },
   "file_extension": ".py",
   "mimetype": "text/x-python",
   "name": "python",
   "nbconvert_exporter": "python",
   "pygments_lexer": "ipython3",
   "version": "3.8.8"
  }
 },
 "nbformat": 4,
 "nbformat_minor": 5
}
